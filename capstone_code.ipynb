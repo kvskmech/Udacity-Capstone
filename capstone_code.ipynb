{
 "cells": [
  {
   "cell_type": "markdown",
   "metadata": {},
   "source": [
    "# Stock price prediction using LSTM"
   ]
  },
  {
   "cell_type": "code",
   "execution_count": 10,
   "metadata": {},
   "outputs": [],
   "source": [
    "import math\n",
    "import pandas as pd\n",
    "import numpy as np\n",
    "import seaborn as sns\n",
    "\n",
    "# import Google Finanace API libraries\n",
    "#from googlefinance.client import get_price_data\n",
    "\n",
    "# import data visualization libraries\n",
    "import matplotlib.pyplot as plt\n",
    "import matplotlib.dates as mdates\n",
    "\n",
    "# import other libraries\n",
    "import datetime as dt\n",
    "import time"
   ]
  },
  {
   "cell_type": "markdown",
   "metadata": {},
   "source": [
    "## READING DATA"
   ]
  },
  {
   "cell_type": "code",
   "execution_count": 11,
   "metadata": {},
   "outputs": [
    {
     "name": "stdout",
     "output_type": "stream",
     "text": [
      "        Date    Close     Open     High      Low  Volume  Change\n",
      "0  19-Dec-01  1060.75  1082.50  1086.35  1057.10  49.99M  -1.99%\n",
      "1  20-Dec-01  1062.00  1060.45  1064.80  1047.50  55.79M   0.12%\n",
      "2  21-Dec-01  1050.85  1061.80  1061.80  1043.65  47.17M  -1.05%\n",
      "3  24-Dec-01  1048.50  1051.00  1055.00  1032.60  41.90M  -0.22%\n",
      "4  26-Dec-01  1034.25  1048.90  1058.30  1030.50  42.61M  -1.36%\n"
     ]
    }
   ],
   "source": [
    "dataset = pd.read_csv('nifty_50_1day.csv')\n",
    "print(dataset.head())"
   ]
  },
  {
   "cell_type": "markdown",
   "metadata": {},
   "source": [
    "## ANALYZING DATA"
   ]
  },
  {
   "cell_type": "code",
   "execution_count": 12,
   "metadata": {},
   "outputs": [
    {
     "data": {
      "text/html": [
       "<div>\n",
       "<style scoped>\n",
       "    .dataframe tbody tr th:only-of-type {\n",
       "        vertical-align: middle;\n",
       "    }\n",
       "\n",
       "    .dataframe tbody tr th {\n",
       "        vertical-align: top;\n",
       "    }\n",
       "\n",
       "    .dataframe thead th {\n",
       "        text-align: right;\n",
       "    }\n",
       "</style>\n",
       "<table border=\"1\" class=\"dataframe\">\n",
       "  <thead>\n",
       "    <tr style=\"text-align: right;\">\n",
       "      <th></th>\n",
       "      <th>Close</th>\n",
       "      <th>Open</th>\n",
       "      <th>High</th>\n",
       "      <th>Low</th>\n",
       "    </tr>\n",
       "  </thead>\n",
       "  <tbody>\n",
       "    <tr>\n",
       "      <th>count</th>\n",
       "      <td>4252.000000</td>\n",
       "      <td>4252.000000</td>\n",
       "      <td>4252.000000</td>\n",
       "      <td>4252.000000</td>\n",
       "    </tr>\n",
       "    <tr>\n",
       "      <th>mean</th>\n",
       "      <td>5216.385360</td>\n",
       "      <td>5218.379198</td>\n",
       "      <td>5253.489699</td>\n",
       "      <td>5177.484537</td>\n",
       "    </tr>\n",
       "    <tr>\n",
       "      <th>std</th>\n",
       "      <td>2853.714012</td>\n",
       "      <td>2857.376872</td>\n",
       "      <td>2863.256538</td>\n",
       "      <td>2844.730809</td>\n",
       "    </tr>\n",
       "    <tr>\n",
       "      <th>min</th>\n",
       "      <td>922.700000</td>\n",
       "      <td>922.550000</td>\n",
       "      <td>931.050000</td>\n",
       "      <td>920.000000</td>\n",
       "    </tr>\n",
       "    <tr>\n",
       "      <th>25%</th>\n",
       "      <td>2804.775000</td>\n",
       "      <td>2803.912500</td>\n",
       "      <td>2842.725000</td>\n",
       "      <td>2762.975000</td>\n",
       "    </tr>\n",
       "    <tr>\n",
       "      <th>50%</th>\n",
       "      <td>5185.050000</td>\n",
       "      <td>5185.775000</td>\n",
       "      <td>5219.725000</td>\n",
       "      <td>5117.650000</td>\n",
       "    </tr>\n",
       "    <tr>\n",
       "      <th>75%</th>\n",
       "      <td>7617.125000</td>\n",
       "      <td>7631.812500</td>\n",
       "      <td>7675.837500</td>\n",
       "      <td>7580.450000</td>\n",
       "    </tr>\n",
       "    <tr>\n",
       "      <th>max</th>\n",
       "      <td>11738.500000</td>\n",
       "      <td>11751.800000</td>\n",
       "      <td>11760.200000</td>\n",
       "      <td>11710.500000</td>\n",
       "    </tr>\n",
       "  </tbody>\n",
       "</table>\n",
       "</div>"
      ],
      "text/plain": [
       "              Close          Open          High           Low\n",
       "count   4252.000000   4252.000000   4252.000000   4252.000000\n",
       "mean    5216.385360   5218.379198   5253.489699   5177.484537\n",
       "std     2853.714012   2857.376872   2863.256538   2844.730809\n",
       "min      922.700000    922.550000    931.050000    920.000000\n",
       "25%     2804.775000   2803.912500   2842.725000   2762.975000\n",
       "50%     5185.050000   5185.775000   5219.725000   5117.650000\n",
       "75%     7617.125000   7631.812500   7675.837500   7580.450000\n",
       "max    11738.500000  11751.800000  11760.200000  11710.500000"
      ]
     },
     "execution_count": 12,
     "metadata": {},
     "output_type": "execute_result"
    }
   ],
   "source": [
    "dataset.describe()"
   ]
  },
  {
   "cell_type": "code",
   "execution_count": 13,
   "metadata": {},
   "outputs": [
    {
     "name": "stdout",
     "output_type": "stream",
     "text": [
      "        Date    Close     Open     High      Low Vol  Change\n",
      "0  10-Jun-05  3593.55  3640.05  3665.80  3585.80   -  -1.18%\n",
      "1  13-Jun-05  3642.90  3593.90  3648.40  3556.70   -   1.37%\n",
      "2  14-Jun-05  3689.80  3649.05  3696.35  3637.70   -   1.29%\n",
      "3  15-Jun-05  3683.85  3700.80  3703.75  3662.85   -  -0.16%\n",
      "4  16-Jun-05  3618.80  3684.40  3685.75  3607.20   -  -1.77%\n"
     ]
    }
   ],
   "source": [
    "bn_data = pd.read_csv('banknifty_1day.csv')\n",
    "print(bn_data.head())"
   ]
  },
  {
   "cell_type": "code",
   "execution_count": 14,
   "metadata": {},
   "outputs": [
    {
     "data": {
      "text/html": [
       "<div>\n",
       "<style scoped>\n",
       "    .dataframe tbody tr th:only-of-type {\n",
       "        vertical-align: middle;\n",
       "    }\n",
       "\n",
       "    .dataframe tbody tr th {\n",
       "        vertical-align: top;\n",
       "    }\n",
       "\n",
       "    .dataframe thead th {\n",
       "        text-align: right;\n",
       "    }\n",
       "</style>\n",
       "<table border=\"1\" class=\"dataframe\">\n",
       "  <thead>\n",
       "    <tr style=\"text-align: right;\">\n",
       "      <th></th>\n",
       "      <th>Close</th>\n",
       "      <th>Open</th>\n",
       "      <th>High</th>\n",
       "      <th>Low</th>\n",
       "    </tr>\n",
       "  </thead>\n",
       "  <tbody>\n",
       "    <tr>\n",
       "      <th>count</th>\n",
       "      <td>3374.000000</td>\n",
       "      <td>3374.000000</td>\n",
       "      <td>3374.000000</td>\n",
       "      <td>3374.000000</td>\n",
       "    </tr>\n",
       "    <tr>\n",
       "      <th>mean</th>\n",
       "      <td>12529.082869</td>\n",
       "      <td>12534.881283</td>\n",
       "      <td>12640.945984</td>\n",
       "      <td>12414.988826</td>\n",
       "    </tr>\n",
       "    <tr>\n",
       "      <th>std</th>\n",
       "      <td>6701.389841</td>\n",
       "      <td>6704.893778</td>\n",
       "      <td>6722.931446</td>\n",
       "      <td>6678.286703</td>\n",
       "    </tr>\n",
       "    <tr>\n",
       "      <th>min</th>\n",
       "      <td>3339.700000</td>\n",
       "      <td>3385.400000</td>\n",
       "      <td>3446.750000</td>\n",
       "      <td>3314.550000</td>\n",
       "    </tr>\n",
       "    <tr>\n",
       "      <th>25%</th>\n",
       "      <td>7106.175000</td>\n",
       "      <td>7114.500000</td>\n",
       "      <td>7227.800000</td>\n",
       "      <td>6995.875000</td>\n",
       "    </tr>\n",
       "    <tr>\n",
       "      <th>50%</th>\n",
       "      <td>10742.125000</td>\n",
       "      <td>10753.675000</td>\n",
       "      <td>10873.600000</td>\n",
       "      <td>10658.750000</td>\n",
       "    </tr>\n",
       "    <tr>\n",
       "      <th>75%</th>\n",
       "      <td>17600.325000</td>\n",
       "      <td>17622.275000</td>\n",
       "      <td>17714.825000</td>\n",
       "      <td>17485.625000</td>\n",
       "    </tr>\n",
       "    <tr>\n",
       "      <th>max</th>\n",
       "      <td>28320.000000</td>\n",
       "      <td>28379.900000</td>\n",
       "      <td>28388.650000</td>\n",
       "      <td>28171.650000</td>\n",
       "    </tr>\n",
       "  </tbody>\n",
       "</table>\n",
       "</div>"
      ],
      "text/plain": [
       "              Close          Open          High           Low\n",
       "count   3374.000000   3374.000000   3374.000000   3374.000000\n",
       "mean   12529.082869  12534.881283  12640.945984  12414.988826\n",
       "std     6701.389841   6704.893778   6722.931446   6678.286703\n",
       "min     3339.700000   3385.400000   3446.750000   3314.550000\n",
       "25%     7106.175000   7114.500000   7227.800000   6995.875000\n",
       "50%    10742.125000  10753.675000  10873.600000  10658.750000\n",
       "75%    17600.325000  17622.275000  17714.825000  17485.625000\n",
       "max    28320.000000  28379.900000  28388.650000  28171.650000"
      ]
     },
     "execution_count": 14,
     "metadata": {},
     "output_type": "execute_result"
    }
   ],
   "source": [
    "bn_data.describe()"
   ]
  },
  {
   "cell_type": "code",
   "execution_count": 28,
   "metadata": {},
   "outputs": [
    {
     "name": "stdout",
     "output_type": "stream",
     "text": [
      "\n",
      "\n",
      "Open   => mean : 5218.37919802446   \t Std:  2857.0408485025837   \t Max:  11751.8   \t Min:  922.55\n",
      "High   => mean : 5253.4896989651925   \t Std:  2862.9198225317955   \t Max:  11760.2   \t Min:  931.05\n",
      "Low    => mean : 5177.4845366886175   \t Std:  2844.3962720816326   \t Max:  11710.5   \t Min:  920.0\n",
      "Close  => mean : 5216.385359830669   \t Std:  2853.3784189822222   \t Max:  11738.5   \t Min:  922.7\n"
     ]
    }
   ],
   "source": [
    "\n",
    "print(\"\\n\")\n",
    "print(\"Open   => mean :\", np.mean(dataset['Open']),  \"  \\t Std: \", np.std(dataset['Open']),  \"  \\t Max: \", np.max(dataset['Open']),  \"  \\t Min: \", np.min(dataset['Open']))\n",
    "print(\"High   => mean :\", np.mean(dataset['High']),  \"  \\t Std: \", np.std(dataset['High']),  \"  \\t Max: \", np.max(dataset['High']),  \"  \\t Min: \", np.min(dataset['High']))\n",
    "print(\"Low    => mean :\", np.mean(dataset['Low']),   \"  \\t Std: \", np.std(dataset['Low']),   \"  \\t Max: \", np.max(dataset['Low']),   \"  \\t Min: \", np.min(dataset['Low']))\n",
    "print(\"Close  => mean :\", np.mean(dataset['Close']), \"  \\t Std: \", np.std(dataset['Close']), \"  \\t Max: \", np.max(dataset['Close']), \"  \\t Min: \", np.min(dataset['Close']))\n",
    "#print(\"Volume => mean :\", np.mean(dataset['Volume']),\"  \\t Std: \", np.std(dataset['Volume']),\"  \\t Max: \", np.max(dataset['Volume']),\"  \\t Min: \", np.min(dataset['Volume']))\n",
    "\n",
    "\n"
   ]
  },
  {
   "cell_type": "markdown",
   "metadata": {},
   "source": [
    "## DATA EXPLORATION"
   ]
  },
  {
   "cell_type": "code",
   "execution_count": 27,
   "metadata": {},
   "outputs": [
    {
     "data": {
      "text/plain": [
       "Text(0, 0.5, 'Nifty 50')"
      ]
     },
     "execution_count": 27,
     "metadata": {},
     "output_type": "execute_result"
    },
    {
     "data": {
      "image/png": "[encoded data removed]",
      "text/plain": [
       "<Figure size 648x432 with 1 Axes>"
      ]
     },
     "metadata": {
      "needs_background": "light"
     },
     "output_type": "display_data"
    }
   ],
   "source": [
    "import matplotlib.pyplot as plt\n",
    "\n",
    "fig = plt.figure(figsize=(9,6))\n",
    "plt.plot(dataset['Close'], dataset['Date'])\n",
    "plt.xlabel('Trading days', fontsize=18)\n",
    "plt.ylabel('Nifty 50', fontsize=18)\n"
   ]
  },
  {
   "cell_type": "code",
   "execution_count": 19,
   "metadata": {},
   "outputs": [
    {
     "data": {
      "text/plain": [
       "<matplotlib.axes._subplots.AxesSubplot at 0x7feb39be3358>"
      ]
     },
     "execution_count": 19,
     "metadata": {},
     "output_type": "execute_result"
    },
    {
     "data": {
      "image/png": "[encoded data removed]",
      "text/plain": [
       "<Figure size 792x648 with 2 Axes>"
      ]
     },
     "metadata": {
      "needs_background": "light"
     },
     "output_type": "display_data"
    }
   ],
   "source": [
    "#Generate Correlation Matrix\n",
    "dataset[\"Prev. Close\"] = dataset.iloc[:, 1].shift(1)\n",
    "\n",
    "corr = dataset.iloc[:].corr()\n",
    "\n",
    "# Generate a mask for the upper triangle\n",
    "mask = np.zeros_like(corr, dtype=np.bool)\n",
    "mask[np.triu_indices_from(mask)] = True\n",
    "\n",
    "# Set up the matplotlib figure\n",
    "f, ax = plt.subplots(figsize=(11, 9))\n",
    "\n",
    "# Generate a custom diverging colormap\n",
    "cmap = sns.diverging_palette(220, 10, as_cmap=True)\n",
    "\n",
    "sns.heatmap(corr,mask=mask, cmap=cmap, vmax=.3, center=0,\n",
    "            square=True, linewidths=.5, cbar_kws={\"shrink\": .5})"
   ]
  },
  {
   "cell_type": "markdown",
   "metadata": {},
   "source": [
    "## PRE-PROCESSING DATA"
   ]
  },
  {
   "cell_type": "markdown",
   "metadata": {},
   "source": [
    "## 1 BENCHMARK MODEL"
   ]
  },
  {
   "cell_type": "code",
   "execution_count": 10,
   "metadata": {},
   "outputs": [
    {
     "name": "stdout",
     "output_type": "stream",
     "text": [
      "[[ 1082.5       nan]\n",
      " [ 1060.45  1060.75]\n",
      " [ 1061.8   1062.  ]\n",
      " ...\n",
      " [10899.65 10886.8 ]\n",
      " [10920.85 10890.3 ]\n",
      " [10914.85 10905.2 ]]\n"
     ]
    }
   ],
   "source": [
    "from sklearn.preprocessing import MinMaxScaler\n",
    "import csv\n",
    "scaler = MinMaxScaler()\n",
    "#print(data)\n",
    "dataset[\"Prev. Close\"] = dataset.iloc[:, 1].shift(1)\n",
    "data=dataset.iloc[:, [2,7]].values\n",
    "\n",
    "X = data[:]\n",
    "print(X)\n",
    "y = dataset['Close']\n",
    "\n",
    "y_new = []\n",
    "for i in y:\n",
    "    y_new.append([i])\n",
    "y_new = np.array(y_new)\n",
    "\n",
    "\n",
    "X = np.array(X)\n",
    "\n",
    "X=scaler.fit_transform(X)\n",
    "y_new=scaler.fit_transform(y_new)\n",
    "\n"
   ]
  },
  {
   "cell_type": "markdown",
   "metadata": {},
   "source": [
    "## 2 LSTM MODEL\n"
   ]
  },
  {
   "cell_type": "code",
   "execution_count": 48,
   "metadata": {},
   "outputs": [
    {
     "name": "stdout",
     "output_type": "stream",
     "text": [
      "[0.01273403 0.01276373]\n",
      "(4252, 1)\n",
      "(4252, 2)\n",
      "(4252, 1)\n"
     ]
    }
   ],
   "source": [
    "new_data = scaler.fit_transform(data)\n",
    "print(new_data[1])\n",
    "\n",
    "train_X = new_data\n",
    "\n",
    "train_y_old = dataset['Close']\n",
    "\n",
    "train_Y = []\n",
    "for i in train_y_old:\n",
    "    train_Y.append([i])\n",
    "train_Y = np.array(train_Y)\n",
    "print(train_Y.shape)\n",
    "\n",
    "\n",
    "train_X = np.array(train_X)\n",
    "train_Y = np.array(train_Y)\n",
    "train_Y = scaler.fit_transform(train_Y)\n",
    "\n",
    "print(train_X .shape)\n",
    "print(train_Y.shape)"
   ]
  },
  {
   "cell_type": "markdown",
   "metadata": {},
   "source": [
    "## LINEAR REGRESSION MODEL "
   ]
  },
  {
   "cell_type": "markdown",
   "metadata": {},
   "source": [
    "### a) SPLITTING DATA "
   ]
  },
  {
   "cell_type": "code",
   "execution_count": 49,
   "metadata": {},
   "outputs": [
    {
     "name": "stdout",
     "output_type": "stream",
     "text": [
      "[0.01285869 0.01287931]\n",
      "[0.01184841]\n",
      "(2975, 2)\n",
      "(1276, 2)\n",
      "(2975, 1)\n",
      "(1276, 1)\n"
     ]
    }
   ],
   "source": [
    "from sklearn.model_selection import train_test_split\n",
    "X_train, X_test, y_train, y_test = train_test_split(X[1:], y_new[1:], test_size = 0.3,shuffle = False,random_state = 0)\n",
    "print(X_train[1])\n",
    "print(y_train[1])\n",
    "print(X_train.shape)\n",
    "print(X_test.shape)\n",
    "print(y_train.shape)\n",
    "print(y_test.shape)"
   ]
  },
  {
   "cell_type": "markdown",
   "metadata": {},
   "source": [
    "### b) INITIALISING MODEL"
   ]
  },
  {
   "cell_type": "code",
   "execution_count": 50,
   "metadata": {},
   "outputs": [
    {
     "name": "stdout",
     "output_type": "stream",
     "text": [
      "[[0.96726238 0.0325635 ]]\n",
      "[0.00035621]\n"
     ]
    }
   ],
   "source": [
    "from sklearn.linear_model import LinearRegression\n",
    "model= LinearRegression()\n",
    "model =model.fit(X_train,y_train)\n",
    "predicted_price = model.predict(X_test)\n",
    "predicted_train = model.predict(X_train)\n",
    "print(model.coef_)\n",
    "print(model.intercept_)"
   ]
  },
  {
   "cell_type": "markdown",
   "metadata": {},
   "source": [
    "### c) DISPLAYING RESULT"
   ]
  },
  {
   "cell_type": "code",
   "execution_count": 51,
   "metadata": {
    "scrolled": true
   },
   "outputs": [
    {
     "data": {
      "image/png": "[encoded data removed]",
      "text/plain": [
       "<Figure size 648x432 with 1 Axes>"
      ]
     },
     "metadata": {
      "needs_background": "light"
     },
     "output_type": "display_data"
    }
   ],
   "source": [
    "import matplotlib.pyplot as plt\n",
    "plt.figure(figsize=(9,6))\n",
    "plt.plot(predicted_price, label='prediction')\n",
    "plt.plot(y_test, label='truth')\n",
    "plt.legend()\n",
    "plt.show()"
   ]
  },
  {
   "cell_type": "code",
   "execution_count": 52,
   "metadata": {},
   "outputs": [
    {
     "data": {
      "image/png": "[encoded data removed]",
      "text/plain": [
       "<Figure size 648x648 with 1 Axes>"
      ]
     },
     "metadata": {
      "needs_background": "light"
     },
     "output_type": "display_data"
    }
   ],
   "source": [
    "import matplotlib.pyplot as plt\n",
    "plt.figure(figsize=(9,9))\n",
    "plt.plot(predicted_train, label='prediction')\n",
    "plt.plot(y_train, label='truth')\n",
    "plt.legend()\n",
    "plt.show()"
   ]
  },
  {
   "cell_type": "markdown",
   "metadata": {},
   "source": [
    "### d) CALCULATING ERRORS"
   ]
  },
  {
   "cell_type": "code",
   "execution_count": 53,
   "metadata": {},
   "outputs": [
    {
     "data": {
      "text/plain": [
       "(0.9979153478930202, 0.005797092168037458)"
      ]
     },
     "execution_count": 53,
     "metadata": {},
     "output_type": "execute_result"
    }
   ],
   "source": [
    "from sklearn.metrics import r2_score, mean_squared_error\n",
    "r2_score(y_test,predicted_price),np.sqrt(mean_squared_error(y_test,predicted_price))"
   ]
  },
  {
   "cell_type": "markdown",
   "metadata": {},
   "source": [
    "## LSTM MODEL"
   ]
  },
  {
   "cell_type": "markdown",
   "metadata": {},
   "source": [
    "### a) SPLITTING DATA "
   ]
  },
  {
   "cell_type": "code",
   "execution_count": 54,
   "metadata": {},
   "outputs": [
    {
     "name": "stdout",
     "output_type": "stream",
     "text": [
      "[0.01184841]\n",
      "[0.01285869 0.01287931]\n",
      "(2975, 2)\n",
      "(1276, 2)\n",
      "(2975, 1)\n"
     ]
    }
   ],
   "source": [
    "from sklearn.model_selection import train_test_split\n",
    "X_train, X_test, y_train, y_test = train_test_split(train_X[1:], train_Y[1:], test_size = 0.3,shuffle = False,random_state = 0)\n",
    "print(y_train[1])\n",
    "print(X_train[1])\n",
    "print(X_train.shape)\n",
    "print(X_test.shape)\n",
    "print(y_train.shape)"
   ]
  },
  {
   "cell_type": "markdown",
   "metadata": {},
   "source": [
    "### WINDOW CREATION"
   ]
  },
  {
   "cell_type": "code",
   "execution_count": 55,
   "metadata": {},
   "outputs": [],
   "source": [
    "def windowing(data, window):\n",
    "    \n",
    "    sequence = []\n",
    "    for index in range(len(data) - window):\n",
    "        sequence.append(data[index: index + window])\n",
    "    return np.asarray(sequence)"
   ]
  },
  {
   "cell_type": "code",
   "execution_count": 56,
   "metadata": {},
   "outputs": [
    {
     "name": "stdout",
     "output_type": "stream",
     "text": [
      "x_train (2970, 5, 2)\n",
      "y_train (2970, 1)\n",
      "x_test (1271, 5, 2)\n",
      "y_test (1271, 1)\n"
     ]
    }
   ],
   "source": [
    "window = 5\n",
    "X_train2 = windowing(X_train, window)\n",
    "X_test2 = windowing(X_test, window)\n",
    "y_train2 = y_train[-X_train2.shape[0]:]\n",
    "y_test2 = y_test[-X_test2.shape[0]:]\n",
    "\n",
    "print(\"x_train\", X_train2.shape)\n",
    "print(\"y_train\", y_train2.shape)\n",
    "print(\"x_test\", X_test2.shape)\n",
    "print(\"y_test\", y_test2.shape)"
   ]
  },
  {
   "cell_type": "code",
   "execution_count": 57,
   "metadata": {},
   "outputs": [
    {
     "name": "stdout",
     "output_type": "stream",
     "text": [
      "2975\n"
     ]
    }
   ],
   "source": [
    "print(X_train.shape[0])"
   ]
  },
  {
   "cell_type": "code",
   "execution_count": 58,
   "metadata": {},
   "outputs": [
    {
     "name": "stdout",
     "output_type": "stream",
     "text": [
      "2\n"
     ]
    }
   ],
   "source": [
    "print(X_train.shape[1])"
   ]
  },
  {
   "cell_type": "markdown",
   "metadata": {},
   "source": [
    "### b) RESHAPING DATA"
   ]
  },
  {
   "cell_type": "code",
   "execution_count": 59,
   "metadata": {},
   "outputs": [],
   "source": [
    "X_train = np.reshape(X_train, (X_train.shape[0], 1, X_train.shape[1]))\n",
    "X_test = np.reshape(X_test, (X_test.shape[0], 1, X_test.shape[1]))"
   ]
  },
  {
   "cell_type": "code",
   "execution_count": 60,
   "metadata": {},
   "outputs": [
    {
     "name": "stdout",
     "output_type": "stream",
     "text": [
      "(2975, 1, 2)\n"
     ]
    }
   ],
   "source": [
    "print(X_train.shape)"
   ]
  },
  {
   "cell_type": "markdown",
   "metadata": {},
   "source": [
    "### c) INITIALISING MODEL"
   ]
  },
  {
   "cell_type": "code",
   "execution_count": 158,
   "metadata": {
    "scrolled": true
   },
   "outputs": [
    {
     "name": "stdout",
     "output_type": "stream",
     "text": [
      "Train on 2677 samples, validate on 298 samples\n",
      "Epoch 1/50\n",
      "2677/2677 [==============================] - 11s 4ms/step - loss: 0.1085 - mean_squared_error: 0.0244 - val_loss: 0.0169 - val_mean_squared_error: 3.2489e-04\n",
      "Epoch 2/50\n",
      "2677/2677 [==============================] - 3s 1ms/step - loss: 0.0191 - mean_squared_error: 5.7154e-04 - val_loss: 0.0046 - val_mean_squared_error: 3.4863e-05\n",
      "Epoch 3/50\n",
      "2677/2677 [==============================] - 3s 1ms/step - loss: 0.0152 - mean_squared_error: 3.7965e-04 - val_loss: 0.0059 - val_mean_squared_error: 5.5659e-05\n",
      "Epoch 4/50\n",
      "2677/2677 [==============================] - 3s 1ms/step - loss: 0.0137 - mean_squared_error: 3.0292e-04 - val_loss: 0.0096 - val_mean_squared_error: 1.2170e-04\n",
      "Epoch 5/50\n",
      "2677/2677 [==============================] - 3s 1ms/step - loss: 0.0130 - mean_squared_error: 2.6360e-04 - val_loss: 0.0054 - val_mean_squared_error: 4.8913e-05\n",
      "Epoch 6/50\n",
      "2677/2677 [==============================] - 3s 1ms/step - loss: 0.0128 - mean_squared_error: 2.5270e-04 - val_loss: 0.0160 - val_mean_squared_error: 2.9642e-04\n",
      "Epoch 7/50\n",
      "2677/2677 [==============================] - 3s 1ms/step - loss: 0.0128 - mean_squared_error: 2.5504e-04 - val_loss: 0.0171 - val_mean_squared_error: 3.3825e-04\n",
      "Epoch 8/50\n",
      "2677/2677 [==============================] - 3s 1ms/step - loss: 0.0124 - mean_squared_error: 2.3859e-04 - val_loss: 0.0090 - val_mean_squared_error: 1.1845e-04\n",
      "Epoch 9/50\n",
      "2677/2677 [==============================] - 3s 1ms/step - loss: 0.0124 - mean_squared_error: 2.4052e-04 - val_loss: 0.0097 - val_mean_squared_error: 1.3619e-04\n",
      "Epoch 10/50\n",
      "2677/2677 [==============================] - 3s 1ms/step - loss: 0.0126 - mean_squared_error: 2.4232e-04 - val_loss: 0.0070 - val_mean_squared_error: 7.8161e-05\n",
      "Epoch 11/50\n",
      "2677/2677 [==============================] - 3s 1ms/step - loss: 0.0123 - mean_squared_error: 2.3145e-04 - val_loss: 0.0190 - val_mean_squared_error: 4.0825e-04\n",
      "Epoch 12/50\n",
      "2677/2677 [==============================] - 3s 1ms/step - loss: 0.0120 - mean_squared_error: 2.2412e-04 - val_loss: 0.0232 - val_mean_squared_error: 5.8915e-04\n",
      "Epoch 13/50\n",
      "2677/2677 [==============================] - 3s 1ms/step - loss: 0.0120 - mean_squared_error: 2.2012e-04 - val_loss: 0.0107 - val_mean_squared_error: 1.5804e-04\n",
      "Epoch 14/50\n",
      "2677/2677 [==============================] - 4s 1ms/step - loss: 0.0119 - mean_squared_error: 2.1854e-04 - val_loss: 0.0192 - val_mean_squared_error: 4.1866e-04\n",
      "Epoch 15/50\n",
      "2677/2677 [==============================] - 3s 1ms/step - loss: 0.0120 - mean_squared_error: 2.1805e-04 - val_loss: 0.0088 - val_mean_squared_error: 1.1649e-04\n",
      "Epoch 16/50\n",
      "2677/2677 [==============================] - 3s 1ms/step - loss: 0.0121 - mean_squared_error: 2.2684e-04 - val_loss: 0.0060 - val_mean_squared_error: 5.8848e-05\n",
      "Epoch 17/50\n",
      "2677/2677 [==============================] - 3s 1ms/step - loss: 0.0120 - mean_squared_error: 2.1903e-04 - val_loss: 0.0195 - val_mean_squared_error: 4.3658e-04\n",
      "Epoch 18/50\n",
      "2677/2677 [==============================] - 3s 1ms/step - loss: 0.0120 - mean_squared_error: 2.1859e-04 - val_loss: 0.0137 - val_mean_squared_error: 2.3791e-04\n",
      "Epoch 19/50\n",
      "2677/2677 [==============================] - 4s 1ms/step - loss: 0.0116 - mean_squared_error: 2.0698e-04 - val_loss: 0.0149 - val_mean_squared_error: 2.6473e-04\n",
      "Epoch 20/50\n",
      "2677/2677 [==============================] - 4s 1ms/step - loss: 0.0114 - mean_squared_error: 2.0248e-04 - val_loss: 0.0145 - val_mean_squared_error: 2.5060e-04\n",
      "Epoch 21/50\n",
      "2677/2677 [==============================] - 3s 1ms/step - loss: 0.0115 - mean_squared_error: 2.0589e-04 - val_loss: 0.0151 - val_mean_squared_error: 2.7480e-04\n",
      "Epoch 22/50\n",
      "2677/2677 [==============================] - 3s 1ms/step - loss: 0.0111 - mean_squared_error: 1.8857e-04 - val_loss: 0.0103 - val_mean_squared_error: 1.3922e-04\n",
      "Epoch 23/50\n",
      "2677/2677 [==============================] - 3s 1ms/step - loss: 0.0109 - mean_squared_error: 1.8245e-04 - val_loss: 0.0092 - val_mean_squared_error: 1.1258e-04\n",
      "Epoch 24/50\n",
      "2677/2677 [==============================] - 3s 1ms/step - loss: 0.0105 - mean_squared_error: 1.6963e-04 - val_loss: 0.0049 - val_mean_squared_error: 4.0292e-05\n",
      "Epoch 25/50\n",
      "2677/2677 [==============================] - 3s 1ms/step - loss: 0.0100 - mean_squared_error: 1.5671e-04 - val_loss: 0.0187 - val_mean_squared_error: 3.8096e-04\n",
      "Epoch 26/50\n",
      "2677/2677 [==============================] - 3s 1ms/step - loss: 0.0096 - mean_squared_error: 1.4661e-04 - val_loss: 0.0068 - val_mean_squared_error: 6.3910e-05\n",
      "Epoch 27/50\n",
      "2677/2677 [==============================] - 4s 1ms/step - loss: 0.0094 - mean_squared_error: 1.3859e-04 - val_loss: 0.0038 - val_mean_squared_error: 2.6582e-05\n",
      "Epoch 28/50\n",
      "2677/2677 [==============================] - 3s 1ms/step - loss: 0.0092 - mean_squared_error: 1.3532e-04 - val_loss: 0.0057 - val_mean_squared_error: 4.8324e-05\n",
      "Epoch 29/50\n",
      "2677/2677 [==============================] - 3s 1ms/step - loss: 0.0088 - mean_squared_error: 1.2240e-04 - val_loss: 0.0132 - val_mean_squared_error: 1.9702e-04\n",
      "Epoch 30/50\n",
      "2677/2677 [==============================] - 3s 1ms/step - loss: 0.0087 - mean_squared_error: 1.2063e-04 - val_loss: 0.0113 - val_mean_squared_error: 1.4941e-04\n",
      "Epoch 31/50\n",
      "2677/2677 [==============================] - 3s 1ms/step - loss: 0.0089 - mean_squared_error: 1.2740e-04 - val_loss: 0.0039 - val_mean_squared_error: 2.7661e-05\n",
      "Epoch 32/50\n",
      "2677/2677 [==============================] - 3s 1ms/step - loss: 0.0086 - mean_squared_error: 1.2158e-04 - val_loss: 0.0061 - val_mean_squared_error: 5.3610e-05\n",
      "Epoch 33/50\n",
      "2677/2677 [==============================] - 3s 1ms/step - loss: 0.0086 - mean_squared_error: 1.1629e-04 - val_loss: 0.0047 - val_mean_squared_error: 3.6374e-05\n",
      "Epoch 34/50\n",
      "2677/2677 [==============================] - 3s 1ms/step - loss: 0.0082 - mean_squared_error: 1.1038e-04 - val_loss: 0.0058 - val_mean_squared_error: 5.0094e-05\n",
      "Epoch 35/50\n",
      "2677/2677 [==============================] - 3s 1ms/step - loss: 0.0084 - mean_squared_error: 1.1181e-04 - val_loss: 0.0049 - val_mean_squared_error: 3.8444e-05\n",
      "Epoch 36/50\n",
      "2677/2677 [==============================] - 3s 1ms/step - loss: 0.0082 - mean_squared_error: 1.0905e-04 - val_loss: 0.0045 - val_mean_squared_error: 3.5168e-05\n",
      "Epoch 37/50\n",
      "2677/2677 [==============================] - 3s 1ms/step - loss: 0.0081 - mean_squared_error: 1.0724e-04 - val_loss: 0.0051 - val_mean_squared_error: 4.1225e-05\n",
      "Epoch 38/50\n",
      "2677/2677 [==============================] - 3s 1ms/step - loss: 0.0079 - mean_squared_error: 1.0178e-04 - val_loss: 0.0043 - val_mean_squared_error: 3.1921e-05\n",
      "Epoch 39/50\n",
      "2677/2677 [==============================] - 3s 1ms/step - loss: 0.0081 - mean_squared_error: 1.0579e-04 - val_loss: 0.0039 - val_mean_squared_error: 2.7415e-05\n",
      "Epoch 40/50\n",
      "2677/2677 [==============================] - 3s 1ms/step - loss: 0.0080 - mean_squared_error: 1.0497e-04 - val_loss: 0.0100 - val_mean_squared_error: 1.2370e-04\n",
      "Epoch 41/50\n",
      "2677/2677 [==============================] - 3s 1ms/step - loss: 0.0080 - mean_squared_error: 1.0407e-04 - val_loss: 0.0040 - val_mean_squared_error: 2.9349e-05\n",
      "Epoch 42/50\n",
      "2677/2677 [==============================] - 3s 1ms/step - loss: 0.0079 - mean_squared_error: 1.0372e-04 - val_loss: 0.0069 - val_mean_squared_error: 6.5258e-05\n",
      "Epoch 43/50\n",
      "2677/2677 [==============================] - 3s 1ms/step - loss: 0.0079 - mean_squared_error: 1.0137e-04 - val_loss: 0.0161 - val_mean_squared_error: 2.8275e-04\n",
      "Epoch 44/50\n",
      "2677/2677 [==============================] - 3s 1ms/step - loss: 0.0077 - mean_squared_error: 9.8154e-05 - val_loss: 0.0039 - val_mean_squared_error: 2.7260e-05\n",
      "Epoch 45/50\n",
      "2677/2677 [==============================] - 3s 1ms/step - loss: 0.0077 - mean_squared_error: 9.7741e-05 - val_loss: 0.0058 - val_mean_squared_error: 5.1099e-05\n",
      "Epoch 46/50\n",
      "2677/2677 [==============================] - 3s 1ms/step - loss: 0.0076 - mean_squared_error: 9.3977e-05 - val_loss: 0.0064 - val_mean_squared_error: 5.7153e-05\n",
      "Epoch 47/50\n",
      "2677/2677 [==============================] - 3s 1ms/step - loss: 0.0074 - mean_squared_error: 9.1026e-05 - val_loss: 0.0038 - val_mean_squared_error: 2.6402e-05\n",
      "Epoch 48/50\n",
      "2677/2677 [==============================] - 3s 1ms/step - loss: 0.0077 - mean_squared_error: 9.7523e-05 - val_loss: 0.0039 - val_mean_squared_error: 2.7678e-05\n",
      "Epoch 49/50\n",
      "2677/2677 [==============================] - 3s 1ms/step - loss: 0.0077 - mean_squared_error: 9.4179e-05 - val_loss: 0.0039 - val_mean_squared_error: 2.7416e-05\n",
      "Epoch 50/50\n",
      "2677/2677 [==============================] - 3s 1ms/step - loss: 0.0074 - mean_squared_error: 9.1964e-05 - val_loss: 0.0038 - val_mean_squared_error: 2.6626e-05\n"
     ]
    }
   ],
   "source": [
    "from keras.models import Sequential\n",
    "from keras.layers import Dense, Activation\n",
    "from keras.layers import LSTM,Dropout\n",
    "\n",
    "model = Sequential()\n",
    " \n",
    "\n",
    "model.add(LSTM(units=300, return_sequences=True, input_shape = (X_train.shape[1], 2)))\n",
    "model.add(Dropout(.2))\n",
    " \n",
    "\n",
    "model.add(LSTM(units=150, return_sequences=False))\n",
    "model.add(Dropout(.2))\n",
    "\n",
    "\n",
    "\n",
    "\n",
    "model.add(Dense(units=1, activation='sigmoid'))\n",
    " \n",
    "# Compiling the RN\n",
    "model.compile(loss='mae', optimizer='nadam', metrics=['mean_squared_error'])\n",
    "\n",
    "# Train :)\n",
    "history = model.fit(X_train,y_train, epochs=50,validation_split=0.1, batch_size=32)\n",
    "\n",
    "############ Save & load Trained Model ############\n",
    "# Save Trained Model\n",
    "model.save('TICKER-RNN.h5')"
   ]
  },
  {
   "cell_type": "code",
   "execution_count": 152,
   "metadata": {},
   "outputs": [
    {
     "data": {
      "image/png": "[encoded data removed]",
      "text/plain": [
       "<Figure size 432x288 with 1 Axes>"
      ]
     },
     "metadata": {
      "needs_background": "light"
     },
     "output_type": "display_data"
    }
   ],
   "source": [
    "\n",
    "plt.plot(history.history['loss'], label='train')\n",
    "plt.plot(history.history['val_loss'], label='valid')\n",
    "plt.legend()\n",
    "plt.show()"
   ]
  },
  {
   "cell_type": "code",
   "execution_count": 154,
   "metadata": {},
   "outputs": [],
   "source": [
    "trainPredict = model.predict(X_train2)\n",
    "testPredict = model.predict(X_test2)\n"
   ]
  },
  {
   "cell_type": "markdown",
   "metadata": {},
   "source": [
    "### d) DISPLAYING RESULT"
   ]
  },
  {
   "cell_type": "code",
   "execution_count": 155,
   "metadata": {},
   "outputs": [
    {
     "data": {
      "image/png": "[encoded data removed]",
      "text/plain": [
       "<Figure size 648x504 with 1 Axes>"
      ]
     },
     "metadata": {
      "needs_background": "light"
     },
     "output_type": "display_data"
    }
   ],
   "source": [
    "plt.figure(figsize=(9,7))\n",
    "plt.plot(testPredict, label='prediction')\n",
    "plt.plot(y_test2, label='truth')\n",
    "plt.legend()\n",
    "plt.show()"
   ]
  },
  {
   "cell_type": "markdown",
   "metadata": {},
   "source": [
    "### e) CALCULATING ERRORS"
   ]
  },
  {
   "cell_type": "code",
   "execution_count": 157,
   "metadata": {},
   "outputs": [
    {
     "data": {
      "text/plain": [
       "(0.17096111760040789, 0.11493431021397163)"
      ]
     },
     "execution_count": 157,
     "metadata": {},
     "output_type": "execute_result"
    }
   ],
   "source": [
    "from sklearn.metrics import r2_score, mean_squared_error\n",
    "r2_score(y_test2,testPredict),np.sqrt(mean_squared_error(y_test2,testPredict))"
   ]
  },
  {
   "cell_type": "markdown",
   "metadata": {},
   "source": [
    "## IMPROVED LSTM MODEL"
   ]
  },
  {
   "cell_type": "code",
   "execution_count": 124,
   "metadata": {
    "scrolled": true
   },
   "outputs": [
    {
     "name": "stdout",
     "output_type": "stream",
     "text": [
      "Train on 2673 samples, validate on 297 samples\n",
      "Epoch 1/50\n",
      "2673/2673 [==============================] - 8s 3ms/step - loss: 0.0383 - mean_squared_error: 0.0035 - val_loss: 0.0371 - val_mean_squared_error: 0.0015\n",
      "Epoch 2/50\n",
      "2673/2673 [==============================] - 3s 1ms/step - loss: 0.0232 - mean_squared_error: 0.0010 - val_loss: 0.0583 - val_mean_squared_error: 0.0035\n",
      "Epoch 3/50\n",
      "2673/2673 [==============================] - 3s 1ms/step - loss: 0.0202 - mean_squared_error: 7.9883e-04 - val_loss: 0.0178 - val_mean_squared_error: 4.0312e-04\n",
      "Epoch 4/50\n",
      "2673/2673 [==============================] - 3s 1ms/step - loss: 0.0198 - mean_squared_error: 7.6781e-04 - val_loss: 0.0089 - val_mean_squared_error: 1.2211e-04\n",
      "Epoch 5/50\n",
      "2673/2673 [==============================] - 3s 1ms/step - loss: 0.0186 - mean_squared_error: 7.0362e-04 - val_loss: 0.0297 - val_mean_squared_error: 9.7528e-04\n",
      "Epoch 6/50\n",
      "2673/2673 [==============================] - 3s 1ms/step - loss: 0.0173 - mean_squared_error: 5.7978e-04 - val_loss: 0.0090 - val_mean_squared_error: 1.2295e-04\n",
      "Epoch 7/50\n",
      "2673/2673 [==============================] - 3s 1ms/step - loss: 0.0164 - mean_squared_error: 5.3036e-04 - val_loss: 0.0493 - val_mean_squared_error: 0.0025\n",
      "Epoch 8/50\n",
      "2673/2673 [==============================] - 3s 1ms/step - loss: 0.0162 - mean_squared_error: 5.1537e-04 - val_loss: 0.0087 - val_mean_squared_error: 1.1997e-04\n",
      "Epoch 9/50\n",
      "2673/2673 [==============================] - 3s 1ms/step - loss: 0.0150 - mean_squared_error: 4.3993e-04 - val_loss: 0.0076 - val_mean_squared_error: 9.2167e-05\n",
      "Epoch 10/50\n",
      "2673/2673 [==============================] - 3s 1ms/step - loss: 0.0147 - mean_squared_error: 4.2343e-04 - val_loss: 0.0423 - val_mean_squared_error: 0.0019\n",
      "Epoch 11/50\n",
      "2673/2673 [==============================] - 3s 1ms/step - loss: 0.0148 - mean_squared_error: 4.2349e-04 - val_loss: 0.0404 - val_mean_squared_error: 0.0017\n",
      "Epoch 12/50\n",
      "2673/2673 [==============================] - 3s 1ms/step - loss: 0.0143 - mean_squared_error: 4.0244e-04 - val_loss: 0.0091 - val_mean_squared_error: 1.2520e-04\n",
      "Epoch 13/50\n",
      "2673/2673 [==============================] - 3s 1ms/step - loss: 0.0145 - mean_squared_error: 4.1052e-04 - val_loss: 0.0090 - val_mean_squared_error: 1.2584e-04\n",
      "Epoch 14/50\n",
      "2673/2673 [==============================] - 3s 1ms/step - loss: 0.0130 - mean_squared_error: 3.2899e-04 - val_loss: 0.0219 - val_mean_squared_error: 5.5680e-04\n",
      "Epoch 15/50\n",
      "2673/2673 [==============================] - 3s 1ms/step - loss: 0.0142 - mean_squared_error: 3.8503e-04 - val_loss: 0.0073 - val_mean_squared_error: 8.4572e-05\n",
      "Epoch 16/50\n",
      "2673/2673 [==============================] - 3s 1ms/step - loss: 0.0136 - mean_squared_error: 3.4762e-04 - val_loss: 0.0115 - val_mean_squared_error: 1.8882e-04\n",
      "Epoch 17/50\n",
      "2673/2673 [==============================] - 3s 1ms/step - loss: 0.0131 - mean_squared_error: 3.2223e-04 - val_loss: 0.0336 - val_mean_squared_error: 0.0012\n",
      "Epoch 18/50\n",
      "2673/2673 [==============================] - 3s 1ms/step - loss: 0.0133 - mean_squared_error: 3.2738e-04 - val_loss: 0.0131 - val_mean_squared_error: 2.3474e-04\n",
      "Epoch 19/50\n",
      "2673/2673 [==============================] - 3s 1ms/step - loss: 0.0127 - mean_squared_error: 3.0591e-04 - val_loss: 0.0108 - val_mean_squared_error: 1.7002e-04\n",
      "Epoch 20/50\n",
      "2673/2673 [==============================] - 3s 1ms/step - loss: 0.0123 - mean_squared_error: 2.8031e-04 - val_loss: 0.0073 - val_mean_squared_error: 8.5457e-05\n",
      "Epoch 21/50\n",
      "2673/2673 [==============================] - 3s 1ms/step - loss: 0.0119 - mean_squared_error: 2.7166e-04 - val_loss: 0.0123 - val_mean_squared_error: 2.1212e-04\n",
      "Epoch 22/50\n",
      "2673/2673 [==============================] - 3s 1ms/step - loss: 0.0122 - mean_squared_error: 2.8596e-04 - val_loss: 0.0114 - val_mean_squared_error: 1.8493e-04\n",
      "Epoch 23/50\n",
      "2673/2673 [==============================] - 3s 1ms/step - loss: 0.0123 - mean_squared_error: 2.8443e-04 - val_loss: 0.0085 - val_mean_squared_error: 1.1121e-04\n",
      "Epoch 24/50\n",
      "2673/2673 [==============================] - 3s 1ms/step - loss: 0.0125 - mean_squared_error: 2.8156e-04 - val_loss: 0.0110 - val_mean_squared_error: 1.7217e-04\n",
      "Epoch 25/50\n",
      "2673/2673 [==============================] - 3s 1ms/step - loss: 0.0123 - mean_squared_error: 2.7002e-04 - val_loss: 0.0149 - val_mean_squared_error: 2.8368e-04\n",
      "Epoch 26/50\n",
      "2673/2673 [==============================] - 3s 1ms/step - loss: 0.0120 - mean_squared_error: 2.6442e-04 - val_loss: 0.0091 - val_mean_squared_error: 1.2507e-04\n",
      "Epoch 27/50\n",
      "2673/2673 [==============================] - 3s 1ms/step - loss: 0.0118 - mean_squared_error: 2.5924e-04 - val_loss: 0.0093 - val_mean_squared_error: 1.2994e-04\n",
      "Epoch 28/50\n",
      "2673/2673 [==============================] - 3s 1ms/step - loss: 0.0116 - mean_squared_error: 2.4003e-04 - val_loss: 0.0143 - val_mean_squared_error: 2.6830e-04\n",
      "Epoch 29/50\n",
      "2673/2673 [==============================] - 3s 1ms/step - loss: 0.0118 - mean_squared_error: 2.4669e-04 - val_loss: 0.0195 - val_mean_squared_error: 4.4838e-04\n",
      "Epoch 30/50\n",
      "2673/2673 [==============================] - 3s 1ms/step - loss: 0.0112 - mean_squared_error: 2.2509e-04 - val_loss: 0.0166 - val_mean_squared_error: 3.3864e-04\n",
      "Epoch 31/50\n",
      "2673/2673 [==============================] - 3s 1ms/step - loss: 0.0114 - mean_squared_error: 2.3311e-04 - val_loss: 0.0097 - val_mean_squared_error: 1.3892e-04\n",
      "Epoch 32/50\n",
      "2673/2673 [==============================] - 4s 1ms/step - loss: 0.0114 - mean_squared_error: 2.3314e-04 - val_loss: 0.0072 - val_mean_squared_error: 8.1586e-05\n",
      "Epoch 33/50\n",
      "2673/2673 [==============================] - 3s 1ms/step - loss: 0.0110 - mean_squared_error: 2.2007e-04 - val_loss: 0.0135 - val_mean_squared_error: 2.3854e-04\n",
      "Epoch 34/50\n",
      "2673/2673 [==============================] - 3s 1ms/step - loss: 0.0113 - mean_squared_error: 2.2783e-04 - val_loss: 0.0066 - val_mean_squared_error: 6.9522e-05\n",
      "Epoch 35/50\n",
      "2673/2673 [==============================] - 3s 1ms/step - loss: 0.0112 - mean_squared_error: 2.2254e-04 - val_loss: 0.0112 - val_mean_squared_error: 1.7633e-04\n",
      "Epoch 36/50\n",
      "2673/2673 [==============================] - 3s 1ms/step - loss: 0.0116 - mean_squared_error: 2.3285e-04 - val_loss: 0.0080 - val_mean_squared_error: 9.9065e-05\n",
      "Epoch 37/50\n",
      "2673/2673 [==============================] - 3s 1ms/step - loss: 0.0115 - mean_squared_error: 2.3241e-04 - val_loss: 0.0130 - val_mean_squared_error: 2.2498e-04\n",
      "Epoch 38/50\n",
      "2673/2673 [==============================] - 3s 1ms/step - loss: 0.0110 - mean_squared_error: 2.1351e-04 - val_loss: 0.0255 - val_mean_squared_error: 7.1952e-04\n",
      "Epoch 39/50\n",
      "2673/2673 [==============================] - 3s 1ms/step - loss: 0.0111 - mean_squared_error: 2.1400e-04 - val_loss: 0.0093 - val_mean_squared_error: 1.2957e-04\n",
      "Epoch 40/50\n",
      "2673/2673 [==============================] - 3s 1ms/step - loss: 0.0112 - mean_squared_error: 2.1726e-04 - val_loss: 0.0124 - val_mean_squared_error: 2.0673e-04\n",
      "Epoch 41/50\n",
      "2673/2673 [==============================] - 3s 1ms/step - loss: 0.0111 - mean_squared_error: 2.2213e-04 - val_loss: 0.0197 - val_mean_squared_error: 4.5424e-04\n",
      "Epoch 42/50\n",
      "2673/2673 [==============================] - 3s 1ms/step - loss: 0.0110 - mean_squared_error: 2.1663e-04 - val_loss: 0.0128 - val_mean_squared_error: 2.2137e-04\n",
      "Epoch 43/50\n",
      "2673/2673 [==============================] - 3s 1ms/step - loss: 0.0110 - mean_squared_error: 2.1370e-04 - val_loss: 0.0137 - val_mean_squared_error: 2.4409e-04\n",
      "Epoch 44/50\n",
      "2673/2673 [==============================] - 3s 1ms/step - loss: 0.0107 - mean_squared_error: 2.0584e-04 - val_loss: 0.0083 - val_mean_squared_error: 1.0671e-04\n",
      "Epoch 45/50\n",
      "2673/2673 [==============================] - 3s 1ms/step - loss: 0.0109 - mean_squared_error: 2.0885e-04 - val_loss: 0.0065 - val_mean_squared_error: 6.7937e-05\n",
      "Epoch 46/50\n",
      "2673/2673 [==============================] - 3s 1ms/step - loss: 0.0108 - mean_squared_error: 2.0794e-04 - val_loss: 0.0102 - val_mean_squared_error: 1.4907e-04\n",
      "Epoch 47/50\n",
      "2673/2673 [==============================] - 3s 1ms/step - loss: 0.0104 - mean_squared_error: 1.8742e-04 - val_loss: 0.0069 - val_mean_squared_error: 7.4875e-05\n",
      "Epoch 48/50\n",
      "2673/2673 [==============================] - 3s 1ms/step - loss: 0.0110 - mean_squared_error: 2.0721e-04 - val_loss: 0.0083 - val_mean_squared_error: 1.0438e-04\n",
      "Epoch 49/50\n",
      "2673/2673 [==============================] - 3s 1ms/step - loss: 0.0104 - mean_squared_error: 1.8688e-04 - val_loss: 0.0066 - val_mean_squared_error: 7.0541e-05\n",
      "Epoch 50/50\n",
      "2673/2673 [==============================] - 3s 1ms/step - loss: 0.0105 - mean_squared_error: 1.9121e-04 - val_loss: 0.0143 - val_mean_squared_error: 2.6334e-04\n"
     ]
    }
   ],
   "source": [
    "from keras.models import Sequential\n",
    "from keras.layers import Dense, Activation\n",
    "from keras.layers import LSTM,Dropout\n",
    "\n",
    "model = Sequential()\n",
    " \n",
    "\n",
    "model.add(LSTM(units=200, return_sequences=True, input_shape = (X_train2.shape[1], 2)))\n",
    "model.add(Dropout(.2))\n",
    " \n",
    "\n",
    "model.add(LSTM(units=100, return_sequences=False))\n",
    "model.add(Dropout(.2))\n",
    "\n",
    "\n",
    "\n",
    "\n",
    "model.add(Dense(units=1, activation='sigmoid'))\n",
    " \n",
    "model.compile(loss='mae', optimizer='nadam', metrics=['mean_squared_error'])\n",
    "\n",
    "history = model.fit(X_train2,y_train2, epochs=50,validation_split=0.1, batch_size=32)"
   ]
  },
  {
   "cell_type": "markdown",
   "metadata": {},
   "source": [
    "### PREDICTING RESULTS"
   ]
  },
  {
   "cell_type": "code",
   "execution_count": 125,
   "metadata": {},
   "outputs": [],
   "source": [
    "trainPredict = model.predict(X_train2)\n",
    "testPredict = model.predict(X_test2)"
   ]
  },
  {
   "cell_type": "markdown",
   "metadata": {},
   "source": [
    "### CALCULATING ERRORS"
   ]
  },
  {
   "cell_type": "code",
   "execution_count": 126,
   "metadata": {},
   "outputs": [
    {
     "data": {
      "text/plain": [
       "(0.868274570637904, 0.04581387803265262)"
      ]
     },
     "execution_count": 126,
     "metadata": {},
     "output_type": "execute_result"
    }
   ],
   "source": [
    "from sklearn.metrics import r2_score, mean_squared_error\n",
    "r2_score(y_test2,testPredict),np.sqrt(mean_squared_error(y_test2,testPredict))"
   ]
  },
  {
   "cell_type": "code",
   "execution_count": 127,
   "metadata": {},
   "outputs": [
    {
     "data": {
      "image/png": "[encoded data removed]",
      "text/plain": [
       "<Figure size 432x288 with 1 Axes>"
      ]
     },
     "metadata": {
      "needs_background": "light"
     },
     "output_type": "display_data"
    }
   ],
   "source": [
    "plt.plot(testPredict, label='prediction')\n",
    "plt.plot(y_test2, label='truth')\n",
    "plt.legend()\n",
    "plt.show()"
   ]
  },
  {
   "cell_type": "markdown",
   "metadata": {},
   "source": [
    "### ROBUSTBNESS CHECK"
   ]
  },
  {
   "cell_type": "code",
   "execution_count": 143,
   "metadata": {},
   "outputs": [
    {
     "name": "stdout",
     "output_type": "stream",
     "text": [
      "        Date    Close     Open     High      Low Vol  Change\n",
      "0  10-Jun-05  3593.55  3640.05  3665.80  3585.80   -  -1.18%\n",
      "1  13-Jun-05  3642.90  3593.90  3648.40  3556.70   -   1.37%\n",
      "2  14-Jun-05  3689.80  3649.05  3696.35  3637.70   -   1.29%\n",
      "3  15-Jun-05  3683.85  3700.80  3703.75  3662.85   -  -0.16%\n",
      "4  16-Jun-05  3618.80  3684.40  3685.75  3607.20   -  -1.77%\n"
     ]
    }
   ],
   "source": [
    "def get_data(path):\n",
    "    dataframe = pd.read_csv(path)\n",
    "    print(dataframe.head())\n",
    "    return\n",
    "      \n",
    "\n",
    "    \n",
    "  \n",
    "\n",
    "data = get_data('banknifty_1day.csv')"
   ]
  },
  {
   "cell_type": "code",
   "execution_count": 144,
   "metadata": {},
   "outputs": [
    {
     "name": "stdout",
     "output_type": "stream",
     "text": [
      "        Date    Close     Open     High      Low Vol  Change\n",
      "0  10-Jun-05  3593.55  3640.05  3665.80  3585.80   -  -1.18%\n",
      "1  13-Jun-05  3642.90  3593.90  3648.40  3556.70   -   1.37%\n",
      "2  14-Jun-05  3689.80  3649.05  3696.35  3637.70   -   1.29%\n",
      "3  15-Jun-05  3683.85  3700.80  3703.75  3662.85   -  -0.16%\n",
      "4  16-Jun-05  3618.80  3684.40  3685.75  3607.20   -  -1.77%\n"
     ]
    }
   ],
   "source": [
    "dataset = pd.read_csv('banknifty_1day.csv')\n",
    "print(dataset.head())"
   ]
  },
  {
   "cell_type": "markdown",
   "metadata": {},
   "source": [
    "### DATA PRE PROCESSING"
   ]
  },
  {
   "cell_type": "code",
   "execution_count": 145,
   "metadata": {},
   "outputs": [
    {
     "name": "stdout",
     "output_type": "stream",
     "text": [
      "[0.00834184 0.01016201]\n",
      "(3374, 1)\n",
      "(3374, 2)\n",
      "(3374, 1)\n"
     ]
    }
   ],
   "source": [
    "dataset[\"Prev. Close\"] = dataset.iloc[:, 1].shift(1)\n",
    "data=dataset.iloc[:, [2,7]].values\n",
    "new_data = scaler.fit_transform(data)\n",
    "print(new_data[1])\n",
    "\n",
    "train_X = new_data\n",
    "\n",
    "train_y_old = dataset['Close']\n",
    "\n",
    "train_Y = []\n",
    "for i in train_y_old:\n",
    "    train_Y.append([i])\n",
    "train_Y = np.array(train_Y)\n",
    "print(train_Y.shape)\n",
    "\n",
    "\n",
    "train_X = np.array(train_X)\n",
    "train_Y = np.array(train_Y)\n",
    "train_Y = scaler.fit_transform(train_Y)\n",
    "\n",
    "print(train_X .shape)\n",
    "print(train_Y.shape)\n"
   ]
  },
  {
   "cell_type": "code",
   "execution_count": 146,
   "metadata": {},
   "outputs": [],
   "source": [
    "window = 5\n",
    "train_X = windowing(train_X , window)\n",
    "train_Y = train_Y[-train_X .shape[0]:]\n"
   ]
  },
  {
   "cell_type": "code",
   "execution_count": 147,
   "metadata": {},
   "outputs": [
    {
     "name": "stdout",
     "output_type": "stream",
     "text": [
      "(3369, 5, 2)\n",
      "(3369, 1)\n"
     ]
    }
   ],
   "source": [
    "print(train_X.shape)\n",
    "print(train_Y.shape)"
   ]
  },
  {
   "cell_type": "code",
   "execution_count": 148,
   "metadata": {},
   "outputs": [
    {
     "name": "stdout",
     "output_type": "stream",
     "text": [
      "5\n"
     ]
    }
   ],
   "source": [
    "print(train_X.shape[1])"
   ]
  },
  {
   "cell_type": "markdown",
   "metadata": {},
   "source": [
    "### PREDICTING WITH IMPROVED MODEL"
   ]
  },
  {
   "cell_type": "code",
   "execution_count": 149,
   "metadata": {},
   "outputs": [
    {
     "ename": "ValueError",
     "evalue": "Error when checking input: expected lstm_21_input to have shape (1, 2) but got array with shape (5, 2)",
     "output_type": "error",
     "traceback": [
      "\u001b[0;31m---------------------------------------------------------------------------\u001b[0m",
      "\u001b[0;31mValueError\u001b[0m                                Traceback (most recent call last)",
      "\u001b[0;32m<ipython-input-149-65b5ce414739>\u001b[0m in \u001b[0;36m<module>\u001b[0;34m\u001b[0m\n\u001b[0;32m----> 1\u001b[0;31m \u001b[0mtrainPredict\u001b[0m \u001b[0;34m=\u001b[0m \u001b[0mmodel\u001b[0m\u001b[0;34m.\u001b[0m\u001b[0mpredict\u001b[0m\u001b[0;34m(\u001b[0m\u001b[0mtrain_X\u001b[0m\u001b[0;34m[\u001b[0m\u001b[0;36m1\u001b[0m\u001b[0;34m:\u001b[0m\u001b[0;34m]\u001b[0m\u001b[0;34m)\u001b[0m\u001b[0;34m\u001b[0m\u001b[0m\n\u001b[0m",
      "\u001b[0;32m/opt/rh/rh-python36/root/usr/lib64/python3.6/site-packages/keras/engine/training.py\u001b[0m in \u001b[0;36mpredict\u001b[0;34m(self, x, batch_size, verbose, steps)\u001b[0m\n\u001b[1;32m   1147\u001b[0m                              'argument.')\n\u001b[1;32m   1148\u001b[0m         \u001b[0;31m# Validate user data.\u001b[0m\u001b[0;34m\u001b[0m\u001b[0;34m\u001b[0m\u001b[0m\n\u001b[0;32m-> 1149\u001b[0;31m         \u001b[0mx\u001b[0m\u001b[0;34m,\u001b[0m \u001b[0m_\u001b[0m\u001b[0;34m,\u001b[0m \u001b[0m_\u001b[0m \u001b[0;34m=\u001b[0m \u001b[0mself\u001b[0m\u001b[0;34m.\u001b[0m\u001b[0m_standardize_user_data\u001b[0m\u001b[0;34m(\u001b[0m\u001b[0mx\u001b[0m\u001b[0;34m)\u001b[0m\u001b[0;34m\u001b[0m\u001b[0m\n\u001b[0m\u001b[1;32m   1150\u001b[0m         \u001b[0;32mif\u001b[0m \u001b[0mself\u001b[0m\u001b[0;34m.\u001b[0m\u001b[0mstateful\u001b[0m\u001b[0;34m:\u001b[0m\u001b[0;34m\u001b[0m\u001b[0m\n\u001b[1;32m   1151\u001b[0m             \u001b[0;32mif\u001b[0m \u001b[0mx\u001b[0m\u001b[0;34m[\u001b[0m\u001b[0;36m0\u001b[0m\u001b[0;34m]\u001b[0m\u001b[0;34m.\u001b[0m\u001b[0mshape\u001b[0m\u001b[0;34m[\u001b[0m\u001b[0;36m0\u001b[0m\u001b[0;34m]\u001b[0m \u001b[0;34m>\u001b[0m \u001b[0mbatch_size\u001b[0m \u001b[0;32mand\u001b[0m \u001b[0mx\u001b[0m\u001b[0;34m[\u001b[0m\u001b[0;36m0\u001b[0m\u001b[0;34m]\u001b[0m\u001b[0;34m.\u001b[0m\u001b[0mshape\u001b[0m\u001b[0;34m[\u001b[0m\u001b[0;36m0\u001b[0m\u001b[0;34m]\u001b[0m \u001b[0;34m%\u001b[0m \u001b[0mbatch_size\u001b[0m \u001b[0;34m!=\u001b[0m \u001b[0;36m0\u001b[0m\u001b[0;34m:\u001b[0m\u001b[0;34m\u001b[0m\u001b[0m\n",
      "\u001b[0;32m/opt/rh/rh-python36/root/usr/lib64/python3.6/site-packages/keras/engine/training.py\u001b[0m in \u001b[0;36m_standardize_user_data\u001b[0;34m(self, x, y, sample_weight, class_weight, check_array_lengths, batch_size)\u001b[0m\n\u001b[1;32m    749\u001b[0m             \u001b[0mfeed_input_shapes\u001b[0m\u001b[0;34m,\u001b[0m\u001b[0;34m\u001b[0m\u001b[0m\n\u001b[1;32m    750\u001b[0m             \u001b[0mcheck_batch_axis\u001b[0m\u001b[0;34m=\u001b[0m\u001b[0;32mFalse\u001b[0m\u001b[0;34m,\u001b[0m  \u001b[0;31m# Don't enforce the batch size.\u001b[0m\u001b[0;34m\u001b[0m\u001b[0m\n\u001b[0;32m--> 751\u001b[0;31m             exception_prefix='input')\n\u001b[0m\u001b[1;32m    752\u001b[0m \u001b[0;34m\u001b[0m\u001b[0m\n\u001b[1;32m    753\u001b[0m         \u001b[0;32mif\u001b[0m \u001b[0my\u001b[0m \u001b[0;32mis\u001b[0m \u001b[0;32mnot\u001b[0m \u001b[0;32mNone\u001b[0m\u001b[0;34m:\u001b[0m\u001b[0;34m\u001b[0m\u001b[0m\n",
      "\u001b[0;32m/opt/rh/rh-python36/root/usr/lib64/python3.6/site-packages/keras/engine/training_utils.py\u001b[0m in \u001b[0;36mstandardize_input_data\u001b[0;34m(data, names, shapes, check_batch_axis, exception_prefix)\u001b[0m\n\u001b[1;32m    136\u001b[0m                             \u001b[0;34m': expected '\u001b[0m \u001b[0;34m+\u001b[0m \u001b[0mnames\u001b[0m\u001b[0;34m[\u001b[0m\u001b[0mi\u001b[0m\u001b[0;34m]\u001b[0m \u001b[0;34m+\u001b[0m \u001b[0;34m' to have shape '\u001b[0m \u001b[0;34m+\u001b[0m\u001b[0;34m\u001b[0m\u001b[0m\n\u001b[1;32m    137\u001b[0m                             \u001b[0mstr\u001b[0m\u001b[0;34m(\u001b[0m\u001b[0mshape\u001b[0m\u001b[0;34m)\u001b[0m \u001b[0;34m+\u001b[0m \u001b[0;34m' but got array with shape '\u001b[0m \u001b[0;34m+\u001b[0m\u001b[0;34m\u001b[0m\u001b[0m\n\u001b[0;32m--> 138\u001b[0;31m                             str(data_shape))\n\u001b[0m\u001b[1;32m    139\u001b[0m     \u001b[0;32mreturn\u001b[0m \u001b[0mdata\u001b[0m\u001b[0;34m\u001b[0m\u001b[0m\n\u001b[1;32m    140\u001b[0m \u001b[0;34m\u001b[0m\u001b[0m\n",
      "\u001b[0;31mValueError\u001b[0m: Error when checking input: expected lstm_21_input to have shape (1, 2) but got array with shape (5, 2)"
     ]
    }
   ],
   "source": [
    "trainPredict = model.predict(train_X[1:])\n"
   ]
  },
  {
   "cell_type": "markdown",
   "metadata": {},
   "source": [
    "### CALCULATING ERROR"
   ]
  },
  {
   "cell_type": "code",
   "execution_count": 135,
   "metadata": {},
   "outputs": [
    {
     "data": {
      "text/plain": [
       "(0.9888321362085575, 0.028326446746622394)"
      ]
     },
     "execution_count": 135,
     "metadata": {},
     "output_type": "execute_result"
    }
   ],
   "source": [
    "from sklearn.metrics import r2_score, mean_squared_error\n",
    "r2_score(train_Y[1:],trainPredict),np.sqrt(mean_squared_error(train_Y[1:],trainPredict))"
   ]
  },
  {
   "cell_type": "code",
   "execution_count": 136,
   "metadata": {},
   "outputs": [
    {
     "data": {
      "image/png": "[encoded data removed]",
      "text/plain": [
       "<Figure size 432x288 with 1 Axes>"
      ]
     },
     "metadata": {
      "needs_background": "light"
     },
     "output_type": "display_data"
    }
   ],
   "source": [
    "plt.plot(trainPredict, label='prediction')\n",
    "plt.plot(train_Y, label='truth')\n",
    "plt.legend()\n",
    "plt.show()"
   ]
  },
  {
   "cell_type": "code",
   "execution_count": null,
   "metadata": {},
   "outputs": [],
   "source": []
  }
 ],
 "metadata": {
  "kernelspec": {
   "display_name": "Python 3",
   "language": "python",
   "name": "python3"
  },
  "language_info": {
   "codemirror_mode": {
    "name": "ipython",
    "version": 3
   },
   "file_extension": ".py",
   "mimetype": "text/x-python",
   "name": "python",
   "nbconvert_exporter": "python",
   "pygments_lexer": "ipython3",
   "version": "3.6.3"
  }
 },
 "nbformat": 4,
 "nbformat_minor": 2
}
